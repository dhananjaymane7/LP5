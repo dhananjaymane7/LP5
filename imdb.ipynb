{
 "cells": [
  {
   "cell_type": "markdown",
   "id": "2fee7a57-8a76-4479-918a-4772897f190a",
   "metadata": {},
   "source": [
    "Binary classification using Deep Neural Networks Example: Classify movie reviews into \n",
    "positive\" reviews and \"negative\" reviews, just based on the text content of the reviews. \n",
    "Use IMDB dataset"
   ]
  },
  {
   "cell_type": "code",
   "execution_count": 53,
   "id": "24189730-0f75-4ebe-ad88-a840661e0ac5",
   "metadata": {},
   "outputs": [],
   "source": [
    "import pandas as pd\n",
    "import numpy as np\n",
    "from sklearn.model_selection import train_test_split\n",
    "from sklearn.metrics import accuracy_score\n",
    "from tensorflow.keras.preprocessing.text import Tokenizer\n",
    "from tensorflow.keras.preprocessing.sequence import pad_sequences\n",
    "from tensorflow.keras.models import Sequential\n",
    "from tensorflow.keras.layers import Embedding, Conv1D, GlobalMaxPooling1D, Dropout, Dense\n",
    "from tensorflow.keras.callbacks import EarlyStopping\n",
    "from tensorflow.keras.optimizers import Adam\n"
   ]
  },
  {
   "cell_type": "code",
   "execution_count": 54,
   "id": "c08a0ec5-db2c-4c89-92b5-242b07f6798b",
   "metadata": {},
   "outputs": [],
   "source": [
    "df = pd.read_csv('IMDB Dataset.csv')"
   ]
  },
  {
   "cell_type": "code",
   "execution_count": 55,
   "id": "30bb71ec-fe00-463c-a2c4-418e765ddbb5",
   "metadata": {},
   "outputs": [],
   "source": [
    "# Map sentiment labels to integers\n",
    "df['sentiment'] = df['sentiment'].map({'negative': 0, 'positive': 1})\n",
    "\n",
    "# Extract data and labels\n",
    "texts = df['review'].astype(str).values\n",
    "labels = df['sentiment'].values"
   ]
  },
  {
   "cell_type": "code",
   "execution_count": 57,
   "id": "1037493c-f7e0-4e18-828f-9e2369db266b",
   "metadata": {},
   "outputs": [],
   "source": [
    "# Split into train and test sets\n",
    "x_train_texts, x_test_texts, y_train, y_test = train_test_split(\n",
    "    texts, labels, test_size=0.2, random_state=42)"
   ]
  },
  {
   "cell_type": "code",
   "execution_count": 58,
   "id": "b45b67bc-2445-4d70-ba64-2ec524f5a300",
   "metadata": {},
   "outputs": [],
   "source": [
    "# Tokenization\n",
    "vocab_size = 20000\n",
    "max_length = 300\n",
    "tokenizer = Tokenizer(num_words=vocab_size, oov_token=\"<OOV>\")\n",
    "tokenizer.fit_on_texts(x_train_texts)"
   ]
  },
  {
   "cell_type": "code",
   "execution_count": 59,
   "id": "1d05a49a-83a8-4040-8e5c-48728aff0f25",
   "metadata": {},
   "outputs": [],
   "source": [
    "x_train = tokenizer.texts_to_sequences(x_train_texts)\n",
    "x_test = tokenizer.texts_to_sequences(x_test_texts)"
   ]
  },
  {
   "cell_type": "code",
   "execution_count": 60,
   "id": "0bf1db77-13ca-43fc-ba0f-fd0a4f283f7c",
   "metadata": {},
   "outputs": [],
   "source": [
    "# Padding\n",
    "x_train = pad_sequences(x_train, maxlen=max_length, padding='post')\n",
    "x_test = pad_sequences(x_test, maxlen=max_length, padding='post')\n"
   ]
  },
  {
   "cell_type": "code",
   "execution_count": 61,
   "id": "9bfc5d96-75fe-4c6f-a1bf-85e09a9e4463",
   "metadata": {},
   "outputs": [
    {
     "name": "stderr",
     "output_type": "stream",
     "text": [
      "C:\\Users\\msi\\AppData\\Local\\Programs\\Python\\Python312\\Lib\\site-packages\\keras\\src\\layers\\core\\embedding.py:90: UserWarning: Argument `input_length` is deprecated. Just remove it.\n",
      "  warnings.warn(\n"
     ]
    }
   ],
   "source": [
    "# Build the model\n",
    "model = Sequential([\n",
    "    Embedding(input_dim=vocab_size, output_dim=256, input_length=max_length),\n",
    "    Conv1D(128, 5, activation='relu'),\n",
    "    GlobalMaxPooling1D(),\n",
    "    Dropout(0.4),\n",
    "    Dense(128, activation='relu'),\n",
    "    Dropout(0.4),\n",
    "    Dense(1, activation='sigmoid')\n",
    "])\n"
   ]
  },
  {
   "cell_type": "code",
   "execution_count": 62,
   "id": "77b0fcd3-59ac-4514-ad2e-989a5866b79f",
   "metadata": {},
   "outputs": [],
   "source": [
    "# Compile\n",
    "optimizer = Adam(learning_rate=0.001)\n",
    "model.compile(loss='binary_crossentropy', optimizer=optimizer, metrics=['accuracy'])"
   ]
  },
  {
   "cell_type": "code",
   "execution_count": 63,
   "id": "9aeb8a74-3e47-47ff-b95e-84f697d56bea",
   "metadata": {},
   "outputs": [],
   "source": [
    "# Callback\n",
    "early_stop = EarlyStopping(monitor='val_accuracy', patience=2, restore_best_weights=True)\n"
   ]
  },
  {
   "cell_type": "code",
   "execution_count": 64,
   "id": "a0fa8847-c957-44cf-9f52-bfd2b192ae0e",
   "metadata": {},
   "outputs": [
    {
     "name": "stdout",
     "output_type": "stream",
     "text": [
      "Training model...\n",
      "Epoch 1/6\n",
      "63/63 - 82s - 1s/step - accuracy: 0.6332 - loss: 0.6275 - val_accuracy: 0.8071 - val_loss: 0.4388\n",
      "Epoch 2/6\n",
      "63/63 - 81s - 1s/step - accuracy: 0.8417 - loss: 0.3651 - val_accuracy: 0.8831 - val_loss: 0.2791\n",
      "Epoch 3/6\n",
      "63/63 - 81s - 1s/step - accuracy: 0.9154 - loss: 0.2179 - val_accuracy: 0.8949 - val_loss: 0.2590\n",
      "Epoch 4/6\n",
      "63/63 - 80s - 1s/step - accuracy: 0.9636 - loss: 0.1121 - val_accuracy: 0.8979 - val_loss: 0.2831\n",
      "Epoch 5/6\n",
      "63/63 - 86s - 1s/step - accuracy: 0.9838 - loss: 0.0549 - val_accuracy: 0.8905 - val_loss: 0.3355\n",
      "Epoch 6/6\n",
      "63/63 - 87s - 1s/step - accuracy: 0.9925 - loss: 0.0285 - val_accuracy: 0.8901 - val_loss: 0.3862\n"
     ]
    }
   ],
   "source": [
    "# Train\n",
    "print(\"Training model...\")\n",
    "history = model.fit(\n",
    "    x_train, y_train,\n",
    "    epochs=6,\n",
    "    batch_size=512,\n",
    "    validation_split=0.2,\n",
    "    callbacks=[early_stop],\n",
    "    verbose=2\n",
    ")"
   ]
  },
  {
   "cell_type": "code",
   "execution_count": 65,
   "id": "979d830c-1992-46a7-b53c-48fbd68c826f",
   "metadata": {},
   "outputs": [
    {
     "name": "stdout",
     "output_type": "stream",
     "text": [
      "\u001b[1m313/313\u001b[0m \u001b[32m━━━━━━━━━━━━━━━━━━━━\u001b[0m\u001b[37m\u001b[0m \u001b[1m7s\u001b[0m 23ms/step\n"
     ]
    }
   ],
   "source": [
    "# Predict\n",
    "predictions = model.predict(x_test)\n",
    "predicted_labels = (predictions > 0.5).astype(int).flatten()"
   ]
  },
  {
   "cell_type": "code",
   "execution_count": 66,
   "id": "cf0ce435-eccb-4460-bc66-7a7353192379",
   "metadata": {},
   "outputs": [
    {
     "name": "stdout",
     "output_type": "stream",
     "text": [
      "\n",
      "Test Accuracy: 90.14%\n"
     ]
    }
   ],
   "source": [
    "# Accuracy\n",
    "test_accuracy = accuracy_score(y_test, predicted_labels)\n",
    "print(f\"\\nTest Accuracy: {test_accuracy * 100:.2f}%\")"
   ]
  },
  {
   "cell_type": "code",
   "execution_count": 67,
   "id": "fb64ada1-119b-4bd3-8ea5-28b67fc0272f",
   "metadata": {},
   "outputs": [
    {
     "name": "stdout",
     "output_type": "stream",
     "text": [
      "\n",
      "Predicted Results on Test Set:\n",
      "\n",
      "Review 1:\n",
      "i really liked this <OOV> due to the look of the arena the curtains and just the look overall was interesting to me for some reason anyways this could have been one of the best <OOV> ever if the wwf didn't have lex <OOV> in the main event against <OOV> now for it's time it was ok to have a huge fat man vs a strong man but i'm glad times have changed it was a terrible main event just like every match <OOV> is in is terrible other matches on the card were razor ramon vs ted dibiase steiner brothers vs heavenly bodies shawn michaels vs curt <OOV> this was the event where shawn named his big monster of a body guard diesel irs vs 1 2 3 kid bret hart first takes on <OOV> then takes on jerry <OOV> and stuff with the <OOV> and <OOV> was always very interesting then <OOV> <OOV> destroyed marty <OOV> undertaker took on giant <OOV> in another terrible match the smoking <OOV> and <OOV> took on bam bam bigelow and the <OOV> and <OOV> defended the world title against lex <OOV> this match was boring and it has a terrible ending however it deserves 8 10\n",
      "Predicted: Positive | Actual: Positive\n",
      "\n",
      "Review 2:\n",
      "driven drama that could be from an australian soap opera yet in the same episode it has science fact fiction that would give even the <OOV> <OOV> a run for his money in the <OOV> stakes <OOV> theory time travel in true <OOV> form magnificent it embraces cultures from all over the map as the possibilities are endless having multiple stars and therefore thousands of planets to choose from br br with such a broad scope it would be expected that nothing would be able to keep up the illusion for long but here is where farscape really comes into it's own element it succeeds where all others have failed especially the likes of star trek a universe with practically zero <OOV> element they ran out of ideas pretty quickly kept rehashing them over the course of 4 seasons they manage to keep the audience's attention using good continuity and constant character evolution with multiple threads to every episode with unique personal touches to camera that are specific to certain character groups within the whole this structure allows for an extremely large area of subject matter as loyalties are <OOV> and broken in many ways on many many issues i happened to see the pilot premiere in passing and just had to keep tuning in after that to see if crichton would ever get the girl after seeing them all on television i was delighted to see them available on dvd i have to admit that it was the only thing that kept me sane whilst i had to do a 12 hour night shift and developed chronic insomnia farscape was the only thing to get me through those extremely long nights br br do yourself a favour watch the pilot and see what i mean br br farscape comet\n",
      "Predicted: Positive | Actual: Positive\n",
      "\n",
      "Review 3:\n",
      "the film quickly gets to a major chase scene with ever increasing destruction the first really bad thing is the guy <OOV> steven seagal would have been beaten to pulp by seagal's driving but that probably would have ended the whole premise for the movie br br it seems like they decided to make all kinds of changes in the movie plot so just plan to enjoy the action and do not expect a coherent plot turn any sense of logic you may have it will reduce your chance of getting a headache br br i does give me some hope that steven seagal is trying to move back towards the type of characters he portrayed in his more popular movies\n",
      "Predicted: Negative | Actual: Negative\n",
      "\n",
      "Review 4:\n",
      "jane austen would definitely approve of this one br br gwyneth paltrow does an awesome job capturing the attitude of emma she is funny without being excessively silly yet elegant she puts on a very convincing british accent not being british myself maybe i'm not the best judge but she fooled me she was also excellent in sliding doors i sometimes forget she's american br br also brilliant are jeremy northam and sophie thompson and <OOV> law emma thompson's sister and mother as the bates women they nearly steal the show and ms law doesn't even have any lines br br highly recommended\n",
      "Predicted: Positive | Actual: Positive\n",
      "\n",
      "Review 5:\n",
      "i wrong br br i'll start with what is right with this movie at certain points steve carell is allowed to be steve carell there are a handful of moments in the film that made me laugh and it's due almost entirely to him being given the <OOV> room to do his thing he's an undoubtedly talented individual and it's a shame that he signed on to what turned out to be in my opinion a total train wreck br br with that out of the way i'll discuss what went <OOV> wrong br br the film begins with dan burns a widower with three girls who is being considered for a <OOV> syndicated advice column he prepares his girls for a family reunion where his extended relatives gather for some time with each other br br the family is high atop the list of things that make this an awful movie no family behaves like this it's almost as if they've been transported from <OOV> or leave it to beaver they are a caricature of what we think a family is when we're 7 it reaches the point where they become obnoxious and simply frustrating touch football <OOV> puzzle <OOV> family bowling and talent shows are not how actual people behave it's almost sickening br br another big flaw is the woman carell is supposed to be falling for observing her in her first scene with steve carell is like watching a stroke victim trying to be <OOV> what i imagine is supposed to be unique and original in this woman comes off as mildly retarded br br it makes me think that this movie is taking place on another planet i left the theater wondering what i just saw after thinking further i don't think it was much\n",
      "Predicted: Negative | Actual: Negative\n",
      "\n",
      "Review 6:\n",
      "anyone who cares and understanding who chris was in real life made this movie more special to me chris farley was a genuinely good person who struggled and ultimately failed to conquer his addictions although this was the first movie he had a major role in it is his best film it really showed who he was and just how much talent he had knowing <OOV> story adds another layer to this movie although it doesn't make it any less funny br br farley and spade are matched with a good on screen cast rob lowe is suitably slimy as <OOV> new brother and bo derek is solid as his step mother brian dennehy is great as big tom dennehy makes it easy to believe that they're father in son big tom is just as crazy as his son although he's smarter and more mature dan <OOV> gives one of his best performances as <OOV> giving tommy the hard truth behind advertising julie warner is also good as <OOV> love interest michelle br br for me peter segal is one of the great comedy directors he keeps the pace quick and energetic but most importantly he knows how to make comedy funny he doesn't <OOV> the jokes and he understands that funny actors know what they're doing and he allows them to do it but segal goes a step further he gives tommy boy a friendly almost nostalgic tone that both <OOV> the heartstrings genuinely and <OOV> the <OOV> br br critics didn't like tommy boy shame on them a movie doesn't have to be super sophisticated or <OOV> intellectual to be funny god forbid farley and spade were forced to do muted comedy a la the office this is a great movie and one of my all time favorites\n",
      "Predicted: Positive | Actual: Positive\n",
      "\n",
      "Review 7:\n",
      "for once a story of hope highlighted over the tragic reality our youth face favela rising draws one into a scary <OOV> and unfair world and shows through beautiful color and moving music how one man and his dedicated friends choose not to accept that world and change it through action and art an entertaining interesting emotional aesthetically beautiful film i showed this film to numerous high school students as well who all live in neighborhoods with poverty and and gun violence and they were enamored with anderson the protagonist i recommend this film to all ages over 13 due to subtitles and some images of death from all backgrounds\n",
      "Predicted: Positive | Actual: Positive\n",
      "\n",
      "Review 8:\n",
      "slap scene as soon as the monks appeared it fit perfectly in place with tony trying to get out of purgatory you can tell he got worried when that christian commercial death disease and sin came on and he's getting more and more desperate because christian heaven is looking kinda <OOV> for him by the time he meets the monks he's thinking hey maybe these guys can help me which sounds like contemplating other religions e g <OOV> and wondering if some other path could take him to salvation not that tony is necessarily literally thinking about becoming a buddhist but it appears <OOV> tried that and messed up that slap in the face basically tells tony there's no quick fix as in no you can't suddenly embrace <OOV> and get out of here br br tony was initially not too concerned about getting to heaven but at the conference entrance he realizes that's not going to be so easy for him at first i saw the name vs driver's license problem as tony having led sort of a double life what with the killing people and sleeping around that he kept secret from most people he feels free to have an affair with quasi <OOV> because he's kevin <OOV> he figures out that he can fool some people with <OOV> cards like hotel <OOV> but it won't get him out of purgatory those helicopters the helicopters of heaven are keeping track of him and everything he does br br after reading all the theories on <OOV> though it seems like <OOV> identity is a reminder of the infinite different paths tony could've taken in his life possibly along with the car joke involving <OOV> that made no sense to me otherwise <OOV> at that point my brain <OOV> out\n",
      "Predicted: Negative | Actual: Positive\n",
      "\n",
      "Review 9:\n",
      "minimal and i always got the feeling the audience was being <OOV> there was a lot of what seemed to me as this is extremely cool but we're not going to explain it in further detail because you won't get it anyway let's just show you some pretty pictures to entertain you the host would drop interesting sounding words such as <OOV> and super <OOV> without any attempt at explaining what it was we had to look it up on wikipedia br br furthermore i know quite a bit about <OOV> for a <OOV> and i found their explanations were convoluted and could have been so much better they could have chosen much better examples to explain concepts but instead the examples they used were confusing and further obscured the subject br br additionally i got so sick of the <OOV> they could easily have condensed the series into one episode if they had cut out all the repetition they must have shown the clips of the quantum café about 8 times the host kept saying the same things over and over and over again i can't remember how many times he said the universe is made out of tiny little <OOV> strings it's like they were trying to <OOV> us into just accepting <OOV> are the best thing since sliced bread br br finally the show ended off with an unpleasant sense of a competition between <OOV> and <OOV> clearly biased towards <OOV> this is supposed to be an educational program about quantum physics not about whether the us is better than europe or vice versa i also felt that was part of the patronizing audiences need to see some conflict to remain interested please give me a little more credit than that br br overall 2 thumbs down\n",
      "Predicted: Negative | Actual: Negative\n",
      "\n",
      "Review 10:\n",
      "writers down on their luck living in a self storage space bin was mildly amusing but painfully bland br br the introduction of the character played by joe <OOV> the big deal movie guy that lives in the park and sleeps in a <OOV> offered hope and i decided to give it a few more minutes and then a few more until kristy <OOV> introduction as a budding film director borderline nymphomaniac added a bit of spice her solid acting performance raised her presence above and beyond just a very welcome eye candy inclusion br br ultimately the obvious low budget <OOV> on the film with poorly shot scenes <OOV> pace and slapstick handling of certain moments some of my favourite movies of all time have been low budget <OOV> i being one that also deals with 2 guys with a dream but down on their luck br br however for my money the actors save <OOV> from the terrible movie archives and just about <OOV> it into the could have been a cult movie archives i laughed out loud at some of the scenes involving joe <OOV> character in particular the penultimate scenes in the terribly clichéd but still funny rich but screwed up characters house where the story unravels towards it's final moments br br i can see how <OOV> was a great stage play and while the film makers did their best to translate this to celluloid it simply didn't work and while i laughed out loud at some of scenes and one liners i think the first 30 minutes <OOV> my senses and expectations to such a degree i would have laughed at anything br br unless you're stuck for a novelty coffee coaster don't pick this up if you see it in a bargain bucket\n",
      "Predicted: Negative | Actual: Negative\n"
     ]
    }
   ],
   "source": [
    "# Optional: decode a review\n",
    "word_index = tokenizer.word_index\n",
    "reverse_word_index = {v: k for k, v in word_index.items()}\n",
    "\n",
    "def decode_review(encoded_review):\n",
    "    return ' '.join([reverse_word_index.get(i, '?') for i in encoded_review if i != 0])\n",
    "\n",
    "# Show sample predictions\n",
    "print(\"\\nPredicted Results on Test Set:\")\n",
    "for i in range(10):\n",
    "    print(f\"\\nReview {i+1}:\")\n",
    "    print(decode_review(x_test[i]))\n",
    "    print(f\"Predicted: {'Positive' if predicted_labels[i] == 1 else 'Negative'} | Actual: {'Positive' if y_test[i] == 1 else 'Negative'}\")"
   ]
  },
  {
   "cell_type": "code",
   "execution_count": null,
   "id": "8a57c1eb-c522-49ed-8fac-a6f66cee46c1",
   "metadata": {},
   "outputs": [],
   "source": []
  }
 ],
 "metadata": {
  "kernelspec": {
   "display_name": "Python 3 (ipykernel)",
   "language": "python",
   "name": "python3"
  },
  "language_info": {
   "codemirror_mode": {
    "name": "ipython",
    "version": 3
   },
   "file_extension": ".py",
   "mimetype": "text/x-python",
   "name": "python",
   "nbconvert_exporter": "python",
   "pygments_lexer": "ipython3",
   "version": "3.12.1"
  }
 },
 "nbformat": 4,
 "nbformat_minor": 5
}
